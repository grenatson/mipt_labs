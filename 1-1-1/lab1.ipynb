{
 "cells": [
  {
   "cell_type": "code",
   "execution_count": 6,
   "metadata": {},
   "outputs": [],
   "source": [
    "def mean(array):\n",
    "    return sum(array) / len(array)\n",
    "\n",
    "def arrays_product(array_1, array_2):\n",
    "    return [array_1[i] * array_2[i] for i in range(len(array_1))]\n",
    "\n",
    "def array_squared(array):\n",
    "    return arrays_product(array, array)\n",
    "\n",
    "def standard_deviation(array):\n",
    "    array_mean = mean(array)\n",
    "    deviation_square = [(item - array_mean) ** 2 for item in array]\n",
    "    return (sum(deviation_square) / (len(array) - 1)) ** 0.5\n",
    "\n",
    "def mnk(xs, ys):\n",
    "    k = (mean(arrays_product(xs, ys)) - mean(xs) * mean(ys)) / (mean(array_squared(xs)) - mean(xs) ** 2)\n",
    "    b = mean(ys) - k * mean(xs)\n",
    "    return k, b\n",
    "\n",
    "def mnk_zero(xs, ys):\n",
    "    return mean(arrays_product(xs, ys)) / mean(array_squared(xs))\n",
    "\n",
    "def mnk_zero_random_deviation(xs, ys, k):\n",
    "    return ((mean(array_squared(ys)) / mean(array_squared(xs)) - k ** 2) / (len(xs) - 1)) ** 0.5\n",
    "\n",
    "#работает только для этой лабораторной\n",
    "def systematic_deviation(value, v_max, v_deviation, i_max, i_deviation):\n",
    "    return value * ((v_deviation / v_max) ** 2 + (i_deviation / i_max) ** 2) ** 0.5\n",
    "\n",
    "def deviation(systematic, random):\n",
    "    return (systematic ** 2 + random ** 2) ** 0.5"
   ]
  },
  {
   "cell_type": "code",
   "execution_count": 1,
   "metadata": {},
   "outputs": [],
   "source": [
    "d2 = [0.37, 0.39, 0.38, 0.36, 0.36, 0.37, 0.37, 0.37, 0.37, 0.37]\n",
    "\n",
    "v_20 = [300, 345, 360, 390, 440, 455, 425, 410, 385, 355, 330, 300]\n",
    "i_20 = [140, 162, 168, 182, 207, 214, 199, 193, 182, 168, 154, 140]\n",
    "\n",
    "v_30 = [285, 315, 340, 370, 450, 505, 485, 450, 420, 395, 360, 320]\n",
    "i_30 = [88, 98, 105, 115, 139, 156, 149, 139, 130, 122, 111, 100]\n",
    "\n",
    "v_50 = [475, 500, 535, 605, 645, 550, 515, 420, 370, 315, 290]\n",
    "i_50 = [89, 93, 100, 113, 120, 107, 96, 78, 68, 59, 54]"
   ]
  },
  {
   "cell_type": "code",
   "execution_count": 7,
   "metadata": {},
   "outputs": [
    {
     "name": "stdout",
     "output_type": "stream",
     "text": [
      "20см - сопротивление: 2.130735045090645, случайное отклонение: 0.0030827869555279473, систематическая ошибка: 0.010177487317415421, ошибка: 0.010634134826553829\n",
      "30см - сопротивление: 3.234677856281996, случайное отклонение: 0.00395733181944753, систематическая ошибка: 0.01526115347774826, ошибка: 0.01576588978144271\n",
      "50см - сопротивление: 5.338218098766241, случайное отклонение: 0.024674826156394557, систематическая ошибка: 0.02430262582174418, ошибка: 0.034633288432951326\n"
     ]
    }
   ],
   "source": [
    "k_20 = mnk_zero(i_20, v_20)\n",
    "random_20 = mnk_zero_random_deviation(i_20, v_20, k_20)\n",
    "systematic_20 = systematic_deviation(k_20, 455, 2, 214, 0.4)\n",
    "deviation_20 = deviation(random_20, systematic_20)\n",
    "print(\"20см - сопротивление: \" + str(k_20) + \", случайное отклонение: \" + str(random_20) + \", систематическая ошибка: \" + str(systematic_20) + \", ошибка: \" + str(deviation_20))\n",
    "\n",
    "k_30 = mnk_zero(i_30, v_30)\n",
    "random_30 = mnk_zero_random_deviation(i_30, v_30, k_30)\n",
    "systematic_30 = systematic_deviation(k_30, 505, 2, 156, 0.4)\n",
    "deviation_30 = deviation(random_30, systematic_30)\n",
    "print(\"30см - сопротивление: \" + str(k_30) + \", случайное отклонение: \" + str(random_30) + \", систематическая ошибка: \" + str(systematic_30) + \", ошибка: \" + str(deviation_30))\n",
    "\n",
    "k_50 = mnk_zero(i_50, v_50)\n",
    "random_50 = mnk_zero_random_deviation(i_50, v_50, k_50)\n",
    "systematic_50 = systematic_deviation(k_50, 645, 2, 120, 0.4)\n",
    "deviation_50 = deviation(random_50, systematic_50)\n",
    "print(\"50см - сопротивление: \" + str(k_50) + \", случайное отклонение: \" + str(random_50) + \", систематическая ошибка: \" + str(systematic_50) + \", ошибка: \" + str(deviation_50))"
   ]
  },
  {
   "cell_type": "code",
   "execution_count": 14,
   "metadata": {},
   "outputs": [
    {
     "name": "stdout",
     "output_type": "stream",
     "text": [
      "0.37100000000000005\n",
      "0.00875595035770914\n"
     ]
    }
   ],
   "source": [
    "print(mean(d2))\n",
    "print(standard_deviation(d2))"
   ]
  },
  {
   "cell_type": "code",
   "execution_count": 15,
   "metadata": {},
   "outputs": [
    {
     "name": "stdout",
     "output_type": "stream",
     "text": [
      "20см сопротивление: 2.0971356014490175; от нуля: 6.011751378668521; строго через ноль: 2.130735045090645\n",
      "30см сопротивление: 3.275529865125235; от нуля: -5.089113680153446; строго через ноль: 3.234677856281996\n",
      "50см сопротивление: 5.307182805284899; от нуля: 2.906866603054425; строго через ноль: 5.338218098766241\n"
     ]
    }
   ],
   "source": [
    "k_20, b_20 = mnk(i_20, v_20)\n",
    "k_20_zero = mnk_zero(i_20, v_20)\n",
    "print(\"20см сопротивление: \" + str(k_20) + \"; от нуля: \" + str(b_20) + \"; строго через ноль: \" + str(k_20_zero))\n",
    "\n",
    "k_30, b_30 = mnk(i_30, v_30)\n",
    "k_30_zero = mnk_zero(i_30, v_30)\n",
    "print(\"30см сопротивление: \" + str(k_30) + \"; от нуля: \" + str(b_30) + \"; строго через ноль: \" + str(k_30_zero))\n",
    "\n",
    "k_50, b_50 = mnk(i_50, v_50)\n",
    "k_50_zero = mnk_zero(i_50, v_50)\n",
    "print(\"50см сопротивление: \" + str(k_50) + \"; от нуля: \" + str(b_50) + \"; строго через ноль: \" + str(k_50_zero))"
   ]
  },
  {
   "cell_type": "code",
   "execution_count": 7,
   "metadata": {},
   "outputs": [
    {
     "name": "stdout",
     "output_type": "stream",
     "text": [
      "y = kx: k = 2.130735045090645 ± 0.0030827869555279473\n",
      "y = kx + b: k = 3.275529865125235 ± 0.020701704187899805, b = -5.089113680153446 ± 2.5416348174229215\n",
      "y = kx: k = 5.338218098766241 ± 0.024674826156394557\n"
     ]
    }
   ],
   "source": [
    "from my_stat import LeastSquares\n",
    "import numpy as np\n",
    "v_20np = np.array([300, 345, 360, 390, 440, 455, 425, 410, 385, 355, 330, 300])\n",
    "i_20np = np.array([140, 162, 168, 182, 207, 214, 199, 193, 182, 168, 154, 140])\n",
    "v_30np = np.array([285, 315, 340, 370, 450, 505, 485, 450, 420, 395, 360, 320])\n",
    "i_30np = np.array([88, 98, 105, 115, 139, 156, 149, 139, 130, 122, 111, 100])\n",
    "v_50np = np.array([475, 500, 535, 605, 645, 550, 515, 420, 370, 315, 290])\n",
    "i_50np = np.array([89, 93, 100, 113, 120, 107, 96, 78, 68, 59, 54])\n",
    "mnk_20 = LeastSquares(i_20np, v_20np, True)\n",
    "print(mnk_20)\n",
    "mnk_30 = LeastSquares(i_30np, v_30np)\n",
    "print(mnk_30)\n",
    "mnk_50 = LeastSquares(i_50np, v_50np, True)\n",
    "print(mnk_50)"
   ]
  }
 ],
 "metadata": {
  "kernelspec": {
   "display_name": "Python 3.10.2 64-bit",
   "language": "python",
   "name": "python3"
  },
  "language_info": {
   "codemirror_mode": {
    "name": "ipython",
    "version": 3
   },
   "file_extension": ".py",
   "mimetype": "text/x-python",
   "name": "python",
   "nbconvert_exporter": "python",
   "pygments_lexer": "ipython3",
   "version": "3.10.2"
  },
  "orig_nbformat": 4,
  "vscode": {
   "interpreter": {
    "hash": "93b2a1382a645210ea11a12bf8009aeab3fb14e40964281ba679dbf4b9e7023e"
   }
  }
 },
 "nbformat": 4,
 "nbformat_minor": 2
}
