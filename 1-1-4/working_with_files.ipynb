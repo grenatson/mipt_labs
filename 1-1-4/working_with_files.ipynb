{
 "cells": [
  {
   "cell_type": "markdown",
   "metadata": {},
   "source": [
    "работа с файлами"
   ]
  },
  {
   "cell_type": "code",
   "execution_count": null,
   "metadata": {},
   "outputs": [],
   "source": [
    "#чтение\n",
    "file = open('filename.txt', 'r')\n",
    "string1 = file.readline() #чтение одной строки\n",
    "string2 = file.readline()\n",
    "file.close()\n",
    "\n",
    "#более предпочтительный способ:\n",
    "with open('filename.txt') as file:\n",
    "    string1 = file.readline()\n",
    "    string2 = file.readline().strip() # '\\t abc   \\n'.strip() -> 'abc' т.е. удаление служебных символов и табуляции\n",
    "\n",
    "import os\n",
    "os.path.join('.', 'dirname', 'filename.txt') # -> './dirname/filename.txt'\n",
    "\n",
    "#чтение всех строк\n",
    "with open('filename.txt') as file:\n",
    "    for line in file:\n",
    "        line = line.strip()\n",
    "        print(line)"
   ]
  },
  {
   "cell_type": "code",
   "execution_count": null,
   "metadata": {},
   "outputs": [],
   "source": [
    "#запись\n",
    "file = open('filename.txt', 'w')\n",
    "file.write('Some text\\n')\n",
    "file.write(str(25))\n",
    "file.close()\n",
    "\n",
    "with open('filename.txt', 'w') as file:\n",
    "    file.write('oopss\\n')\n",
    "    file.write(str(5 + 6))"
   ]
  }
 ],
 "metadata": {
  "kernelspec": {
   "display_name": "Python 3.10.2 64-bit",
   "language": "python",
   "name": "python3"
  },
  "language_info": {
   "name": "python",
   "version": "3.10.2"
  },
  "orig_nbformat": 4,
  "vscode": {
   "interpreter": {
    "hash": "93b2a1382a645210ea11a12bf8009aeab3fb14e40964281ba679dbf4b9e7023e"
   }
  }
 },
 "nbformat": 4,
 "nbformat_minor": 2
}
